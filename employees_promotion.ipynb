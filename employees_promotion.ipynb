{
 "cells": [
  {
   "cell_type": "code",
   "execution_count": 2,
   "metadata": {},
   "outputs": [
    {
     "name": "stderr",
     "output_type": "stream",
     "text": [
      "c:\\Users\\bkhan\\AppData\\Local\\Programs\\Python\\Python39\\lib\\site-packages\\scipy\\__init__.py:155: UserWarning: A NumPy version >=1.18.5 and <1.25.0 is required for this version of SciPy (detected version 1.26.1\n",
      "  warnings.warn(f\"A NumPy version >={np_minversion} and <{np_maxversion}\"\n"
     ]
    }
   ],
   "source": [
    "import pandas as pd\n",
    "import numpy as np\n",
    "import matplotlib.pyplot as plt\n",
    "import seaborn as sns"
   ]
  },
  {
   "cell_type": "code",
   "execution_count": 3,
   "metadata": {},
   "outputs": [
    {
     "data": {
      "text/html": [
       "<div>\n",
       "<style scoped>\n",
       "    .dataframe tbody tr th:only-of-type {\n",
       "        vertical-align: middle;\n",
       "    }\n",
       "\n",
       "    .dataframe tbody tr th {\n",
       "        vertical-align: top;\n",
       "    }\n",
       "\n",
       "    .dataframe thead th {\n",
       "        text-align: right;\n",
       "    }\n",
       "</style>\n",
       "<table border=\"1\" class=\"dataframe\">\n",
       "  <thead>\n",
       "    <tr style=\"text-align: right;\">\n",
       "      <th></th>\n",
       "      <th>EmployeeID</th>\n",
       "      <th>Department</th>\n",
       "      <th>Region_Employment</th>\n",
       "      <th>Education Level</th>\n",
       "      <th>Gender</th>\n",
       "      <th>Recruitment Channel</th>\n",
       "      <th>NO_Trainings_LstYear</th>\n",
       "      <th>Age</th>\n",
       "      <th>previous_year_rating</th>\n",
       "      <th>Service Length</th>\n",
       "      <th>Awards</th>\n",
       "      <th>Avg_Training_Score</th>\n",
       "      <th>Is Promoted</th>\n",
       "    </tr>\n",
       "  </thead>\n",
       "  <tbody>\n",
       "    <tr>\n",
       "      <th>0</th>\n",
       "      <td>65438</td>\n",
       "      <td>Sales &amp; Marketing</td>\n",
       "      <td>7</td>\n",
       "      <td>Master's &amp; above</td>\n",
       "      <td>f</td>\n",
       "      <td>sourcing</td>\n",
       "      <td>1</td>\n",
       "      <td>35.0</td>\n",
       "      <td>5.0</td>\n",
       "      <td>8</td>\n",
       "      <td>NO</td>\n",
       "      <td>49.0</td>\n",
       "      <td>NO</td>\n",
       "    </tr>\n",
       "    <tr>\n",
       "      <th>1</th>\n",
       "      <td>65141</td>\n",
       "      <td>Operations</td>\n",
       "      <td>22</td>\n",
       "      <td>Bachelor's</td>\n",
       "      <td>m</td>\n",
       "      <td>other</td>\n",
       "      <td>1</td>\n",
       "      <td>30.0</td>\n",
       "      <td>5.0</td>\n",
       "      <td>4</td>\n",
       "      <td>NO</td>\n",
       "      <td>60.0</td>\n",
       "      <td>NO</td>\n",
       "    </tr>\n",
       "    <tr>\n",
       "      <th>2</th>\n",
       "      <td>7513</td>\n",
       "      <td>Sales &amp; Marketing</td>\n",
       "      <td>19</td>\n",
       "      <td>Bachelor's</td>\n",
       "      <td>m</td>\n",
       "      <td>sourcing</td>\n",
       "      <td>1</td>\n",
       "      <td>34.0</td>\n",
       "      <td>3.0</td>\n",
       "      <td>7</td>\n",
       "      <td>NO</td>\n",
       "      <td>50.0</td>\n",
       "      <td>NO</td>\n",
       "    </tr>\n",
       "    <tr>\n",
       "      <th>3</th>\n",
       "      <td>2542</td>\n",
       "      <td>Sales &amp; Marketing</td>\n",
       "      <td>23</td>\n",
       "      <td>Bachelor's</td>\n",
       "      <td>m</td>\n",
       "      <td>other</td>\n",
       "      <td>2</td>\n",
       "      <td>39.0</td>\n",
       "      <td>1.0</td>\n",
       "      <td>10</td>\n",
       "      <td>NO</td>\n",
       "      <td>50.0</td>\n",
       "      <td>NO</td>\n",
       "    </tr>\n",
       "    <tr>\n",
       "      <th>4</th>\n",
       "      <td>48945</td>\n",
       "      <td>Technology</td>\n",
       "      <td>26</td>\n",
       "      <td>Bachelor's</td>\n",
       "      <td>m</td>\n",
       "      <td>other</td>\n",
       "      <td>1</td>\n",
       "      <td>45.0</td>\n",
       "      <td>3.0</td>\n",
       "      <td>2</td>\n",
       "      <td>NO</td>\n",
       "      <td>73.0</td>\n",
       "      <td>NO</td>\n",
       "    </tr>\n",
       "  </tbody>\n",
       "</table>\n",
       "</div>"
      ],
      "text/plain": [
       "   EmployeeID         Department  Region_Employment   Education Level Gender  \\\n",
       "0       65438  Sales & Marketing                  7  Master's & above      f   \n",
       "1       65141         Operations                 22        Bachelor's      m   \n",
       "2        7513  Sales & Marketing                 19        Bachelor's      m   \n",
       "3        2542  Sales & Marketing                 23        Bachelor's      m   \n",
       "4       48945         Technology                 26        Bachelor's      m   \n",
       "\n",
       "  Recruitment Channel  NO_Trainings_LstYear   Age  previous_year_rating  \\\n",
       "0            sourcing                     1  35.0                   5.0   \n",
       "1               other                     1  30.0                   5.0   \n",
       "2            sourcing                     1  34.0                   3.0   \n",
       "3               other                     2  39.0                   1.0   \n",
       "4               other                     1  45.0                   3.0   \n",
       "\n",
       "   Service Length Awards  Avg_Training_Score Is Promoted  \n",
       "0               8     NO                49.0          NO  \n",
       "1               4     NO                60.0          NO  \n",
       "2               7     NO                50.0          NO  \n",
       "3              10     NO                50.0          NO  \n",
       "4               2     NO                73.0          NO  "
      ]
     },
     "execution_count": 3,
     "metadata": {},
     "output_type": "execute_result"
    }
   ],
   "source": [
    "df = pd.read_csv(\"Employees Promotion.csv\")    # loading employee promotion.csv data from day09-project s3 bucket.\n",
    "df.head()"
   ]
  },
  {
   "cell_type": "markdown",
   "metadata": {},
   "source": [
    "### Analysing Data"
   ]
  },
  {
   "cell_type": "code",
   "execution_count": 4,
   "metadata": {},
   "outputs": [
    {
     "name": "stdout",
     "output_type": "stream",
     "text": [
      "<class 'pandas.core.frame.DataFrame'>\n",
      "RangeIndex: 54808 entries, 0 to 54807\n",
      "Data columns (total 13 columns):\n",
      " #   Column                Non-Null Count  Dtype  \n",
      "---  ------                --------------  -----  \n",
      " 0   EmployeeID            54808 non-null  int64  \n",
      " 1   Department            54808 non-null  object \n",
      " 2   Region_Employment     54808 non-null  int64  \n",
      " 3   Education Level       52399 non-null  object \n",
      " 4   Gender                54808 non-null  object \n",
      " 5   Recruitment Channel   44404 non-null  object \n",
      " 6   NO_Trainings_LstYear  54808 non-null  int64  \n",
      " 7   Age                   54268 non-null  float64\n",
      " 8   previous_year_rating  50684 non-null  float64\n",
      " 9   Service Length        54808 non-null  int64  \n",
      " 10  Awards                54808 non-null  object \n",
      " 11  Avg_Training_Score    52248 non-null  float64\n",
      " 12  Is Promoted           54808 non-null  object \n",
      "dtypes: float64(3), int64(4), object(6)\n",
      "memory usage: 5.4+ MB\n"
     ]
    }
   ],
   "source": [
    "df.info()   # checking data types, dimensions of df"
   ]
  },
  {
   "cell_type": "code",
   "execution_count": 5,
   "metadata": {},
   "outputs": [
    {
     "data": {
      "text/html": [
       "<div>\n",
       "<style scoped>\n",
       "    .dataframe tbody tr th:only-of-type {\n",
       "        vertical-align: middle;\n",
       "    }\n",
       "\n",
       "    .dataframe tbody tr th {\n",
       "        vertical-align: top;\n",
       "    }\n",
       "\n",
       "    .dataframe thead th {\n",
       "        text-align: right;\n",
       "    }\n",
       "</style>\n",
       "<table border=\"1\" class=\"dataframe\">\n",
       "  <thead>\n",
       "    <tr style=\"text-align: right;\">\n",
       "      <th></th>\n",
       "      <th>EmployeeID</th>\n",
       "      <th>Region_Employment</th>\n",
       "      <th>NO_Trainings_LstYear</th>\n",
       "      <th>Age</th>\n",
       "      <th>previous_year_rating</th>\n",
       "      <th>Service Length</th>\n",
       "      <th>Avg_Training_Score</th>\n",
       "    </tr>\n",
       "  </thead>\n",
       "  <tbody>\n",
       "    <tr>\n",
       "      <th>count</th>\n",
       "      <td>54808.000000</td>\n",
       "      <td>54808.000000</td>\n",
       "      <td>54808.000000</td>\n",
       "      <td>54268.000000</td>\n",
       "      <td>50684.000000</td>\n",
       "      <td>54808.000000</td>\n",
       "      <td>52248.000000</td>\n",
       "    </tr>\n",
       "    <tr>\n",
       "      <th>mean</th>\n",
       "      <td>39195.830627</td>\n",
       "      <td>14.195045</td>\n",
       "      <td>1.253011</td>\n",
       "      <td>34.586644</td>\n",
       "      <td>3.329256</td>\n",
       "      <td>5.865512</td>\n",
       "      <td>63.712238</td>\n",
       "    </tr>\n",
       "    <tr>\n",
       "      <th>std</th>\n",
       "      <td>22586.581449</td>\n",
       "      <td>10.086273</td>\n",
       "      <td>0.609264</td>\n",
       "      <td>8.114136</td>\n",
       "      <td>1.259993</td>\n",
       "      <td>4.265094</td>\n",
       "      <td>13.521910</td>\n",
       "    </tr>\n",
       "    <tr>\n",
       "      <th>min</th>\n",
       "      <td>1.000000</td>\n",
       "      <td>1.000000</td>\n",
       "      <td>1.000000</td>\n",
       "      <td>0.000000</td>\n",
       "      <td>1.000000</td>\n",
       "      <td>1.000000</td>\n",
       "      <td>39.000000</td>\n",
       "    </tr>\n",
       "    <tr>\n",
       "      <th>25%</th>\n",
       "      <td>19669.750000</td>\n",
       "      <td>4.000000</td>\n",
       "      <td>1.000000</td>\n",
       "      <td>29.000000</td>\n",
       "      <td>3.000000</td>\n",
       "      <td>3.000000</td>\n",
       "      <td>51.000000</td>\n",
       "    </tr>\n",
       "    <tr>\n",
       "      <th>50%</th>\n",
       "      <td>39225.500000</td>\n",
       "      <td>13.000000</td>\n",
       "      <td>1.000000</td>\n",
       "      <td>33.000000</td>\n",
       "      <td>3.000000</td>\n",
       "      <td>5.000000</td>\n",
       "      <td>60.000000</td>\n",
       "    </tr>\n",
       "    <tr>\n",
       "      <th>75%</th>\n",
       "      <td>58730.500000</td>\n",
       "      <td>22.000000</td>\n",
       "      <td>1.000000</td>\n",
       "      <td>39.000000</td>\n",
       "      <td>4.000000</td>\n",
       "      <td>7.000000</td>\n",
       "      <td>77.000000</td>\n",
       "    </tr>\n",
       "    <tr>\n",
       "      <th>max</th>\n",
       "      <td>78298.000000</td>\n",
       "      <td>34.000000</td>\n",
       "      <td>10.000000</td>\n",
       "      <td>60.000000</td>\n",
       "      <td>5.000000</td>\n",
       "      <td>37.000000</td>\n",
       "      <td>99.000000</td>\n",
       "    </tr>\n",
       "  </tbody>\n",
       "</table>\n",
       "</div>"
      ],
      "text/plain": [
       "         EmployeeID  Region_Employment  NO_Trainings_LstYear           Age  \\\n",
       "count  54808.000000       54808.000000          54808.000000  54268.000000   \n",
       "mean   39195.830627          14.195045              1.253011     34.586644   \n",
       "std    22586.581449          10.086273              0.609264      8.114136   \n",
       "min        1.000000           1.000000              1.000000      0.000000   \n",
       "25%    19669.750000           4.000000              1.000000     29.000000   \n",
       "50%    39225.500000          13.000000              1.000000     33.000000   \n",
       "75%    58730.500000          22.000000              1.000000     39.000000   \n",
       "max    78298.000000          34.000000             10.000000     60.000000   \n",
       "\n",
       "       previous_year_rating  Service Length  Avg_Training_Score  \n",
       "count          50684.000000    54808.000000        52248.000000  \n",
       "mean               3.329256        5.865512           63.712238  \n",
       "std                1.259993        4.265094           13.521910  \n",
       "min                1.000000        1.000000           39.000000  \n",
       "25%                3.000000        3.000000           51.000000  \n",
       "50%                3.000000        5.000000           60.000000  \n",
       "75%                4.000000        7.000000           77.000000  \n",
       "max                5.000000       37.000000           99.000000  "
      ]
     },
     "execution_count": 5,
     "metadata": {},
     "output_type": "execute_result"
    }
   ],
   "source": [
    "df.describe()    # stats of the df"
   ]
  },
  {
   "cell_type": "code",
   "execution_count": 6,
   "metadata": {},
   "outputs": [
    {
     "data": {
      "text/plain": [
       "(54808, 13)"
      ]
     },
     "execution_count": 6,
     "metadata": {},
     "output_type": "execute_result"
    }
   ],
   "source": [
    "df.shape    # dimesnsions of the df"
   ]
  },
  {
   "cell_type": "code",
   "execution_count": 7,
   "metadata": {},
   "outputs": [
    {
     "data": {
      "text/plain": [
       "0"
      ]
     },
     "execution_count": 7,
     "metadata": {},
     "output_type": "execute_result"
    }
   ],
   "source": [
    "df.duplicated().sum()    # checking any duplicated values in the df"
   ]
  },
  {
   "cell_type": "code",
   "execution_count": 8,
   "metadata": {},
   "outputs": [
    {
     "data": {
      "text/plain": [
       "EmployeeID                  0\n",
       "Department                  0\n",
       "Region_Employment           0\n",
       "Education Level          2409\n",
       "Gender                      0\n",
       "Recruitment Channel     10404\n",
       "NO_Trainings_LstYear        0\n",
       "Age                       540\n",
       "previous_year_rating     4124\n",
       "Service Length              0\n",
       "Awards                      0\n",
       "Avg_Training_Score       2560\n",
       "Is Promoted                 0\n",
       "dtype: int64"
      ]
     },
     "execution_count": 8,
     "metadata": {},
     "output_type": "execute_result"
    }
   ],
   "source": [
    "df.isnull().sum()    # checking total null values in each column"
   ]
  },
  {
   "cell_type": "code",
   "execution_count": 9,
   "metadata": {},
   "outputs": [
    {
     "data": {
      "text/plain": [
       "NO     50140\n",
       "YES     4668\n",
       "Name: Is Promoted, dtype: int64"
      ]
     },
     "execution_count": 9,
     "metadata": {},
     "output_type": "execute_result"
    }
   ],
   "source": [
    "df['Is Promoted'].value_counts()    # target column value counts"
   ]
  },
  {
   "cell_type": "markdown",
   "metadata": {},
   "source": [
    "### Cleaning and Engineering data"
   ]
  },
  {
   "cell_type": "code",
   "execution_count": 10,
   "metadata": {},
   "outputs": [],
   "source": [
    "df['Is Promoted'] = df['Is Promoted'].map({'YES': 1, 'NO': 0})    # mapping the target column values i.e. Yes and No to 1 and 0."
   ]
  },
  {
   "cell_type": "code",
   "execution_count": 11,
   "metadata": {},
   "outputs": [
    {
     "data": {
      "text/plain": [
       "array([\"Master's & above\", \"Bachelor's\", nan, 'Below Secondary'],\n",
       "      dtype=object)"
      ]
     },
     "execution_count": 11,
     "metadata": {},
     "output_type": "execute_result"
    }
   ],
   "source": [
    "df['Education Level'].unique()    # unique values of Education Level column"
   ]
  },
  {
   "cell_type": "code",
   "execution_count": 12,
   "metadata": {},
   "outputs": [
    {
     "data": {
      "text/plain": [
       "Bachelor's          36669\n",
       "Master's & above    14925\n",
       "Below Secondary       805\n",
       "Name: Education Level, dtype: int64"
      ]
     },
     "execution_count": 12,
     "metadata": {},
     "output_type": "execute_result"
    }
   ],
   "source": [
    "df['Education Level'].value_counts()    # Value counts of each values in the Education Level column."
   ]
  },
  {
   "cell_type": "code",
   "execution_count": 13,
   "metadata": {},
   "outputs": [
    {
     "data": {
      "text/plain": [
       "2409"
      ]
     },
     "execution_count": 13,
     "metadata": {},
     "output_type": "execute_result"
    }
   ],
   "source": [
    "df['Education Level'].isnull().sum()    # total null values in Education Level column"
   ]
  },
  {
   "cell_type": "code",
   "execution_count": 14,
   "metadata": {},
   "outputs": [],
   "source": [
    "df['Education Level'].fillna(method='ffill', inplace=True)    # using forward fill to fill null values"
   ]
  },
  {
   "cell_type": "code",
   "execution_count": 15,
   "metadata": {},
   "outputs": [
    {
     "data": {
      "text/plain": [
       "Bachelor's          38390\n",
       "Master's & above    15579\n",
       "Below Secondary       839\n",
       "Name: Education Level, dtype: int64"
      ]
     },
     "execution_count": 15,
     "metadata": {},
     "output_type": "execute_result"
    }
   ],
   "source": [
    "df['Education Level'].value_counts()    # now checking the count"
   ]
  },
  {
   "cell_type": "code",
   "execution_count": 16,
   "metadata": {},
   "outputs": [
    {
     "data": {
      "text/plain": [
       "0"
      ]
     },
     "execution_count": 16,
     "metadata": {},
     "output_type": "execute_result"
    }
   ],
   "source": [
    "df['Education Level'].isnull().sum()    # checking null values"
   ]
  },
  {
   "cell_type": "code",
   "execution_count": 17,
   "metadata": {},
   "outputs": [
    {
     "data": {
      "text/plain": [
       "array([35., 30., 34., 39., 45., 31., 33., 28., 32., 49., 37., 38., 41.,\n",
       "       27., 29., 26., 24., 57., 40., 42., 23., 59., nan, 50., 56., 20.,\n",
       "       25., 47., 36., 46., 44., 60.,  0., 43., 22., 54., 58., 48., 53.,\n",
       "       55., 51., 52., 21.])"
      ]
     },
     "execution_count": 17,
     "metadata": {},
     "output_type": "execute_result"
    }
   ],
   "source": [
    "df.Age.unique()    # unique values of age column"
   ]
  },
  {
   "cell_type": "code",
   "execution_count": 18,
   "metadata": {},
   "outputs": [
    {
     "data": {
      "text/plain": [
       "30.0    3597\n",
       "32.0    3479\n",
       "31.0    3474\n",
       "29.0    3352\n",
       "33.0    3157\n",
       "28.0    3103\n",
       "34.0    3017\n",
       "27.0    2784\n",
       "35.0    2673\n",
       "36.0    2482\n",
       "37.0    2134\n",
       "26.0    2019\n",
       "38.0    1894\n",
       "39.0    1660\n",
       "40.0    1634\n",
       "25.0    1283\n",
       "41.0    1265\n",
       "42.0    1133\n",
       "43.0     978\n",
       "44.0     834\n",
       "24.0     832\n",
       "45.0     749\n",
       "46.0     686\n",
       "48.0     554\n",
       "47.0     550\n",
       "50.0     516\n",
       "49.0     435\n",
       "23.0     419\n",
       "51.0     386\n",
       "53.0     354\n",
       "52.0     345\n",
       "0.0      340\n",
       "54.0     306\n",
       "55.0     285\n",
       "56.0     262\n",
       "57.0     234\n",
       "22.0     228\n",
       "60.0     214\n",
       "58.0     211\n",
       "59.0     202\n",
       "20.0     110\n",
       "21.0      98\n",
       "Name: Age, dtype: int64"
      ]
     },
     "execution_count": 18,
     "metadata": {},
     "output_type": "execute_result"
    }
   ],
   "source": [
    "df.Age.value_counts()    # value counts of age column"
   ]
  },
  {
   "cell_type": "code",
   "execution_count": 19,
   "metadata": {},
   "outputs": [
    {
     "data": {
      "text/plain": [
       "0        35.0\n",
       "1        30.0\n",
       "2        34.0\n",
       "3        39.0\n",
       "4        45.0\n",
       "         ... \n",
       "54803    48.0\n",
       "54804    37.0\n",
       "54805     0.0\n",
       "54806    29.0\n",
       "54807    27.0\n",
       "Name: Age, Length: 54808, dtype: float64"
      ]
     },
     "execution_count": 19,
     "metadata": {},
     "output_type": "execute_result"
    }
   ],
   "source": [
    "df.Age.fillna(df['Age'].median())    # filling the null values of age column using median of age column"
   ]
  },
  {
   "cell_type": "code",
   "execution_count": 20,
   "metadata": {},
   "outputs": [
    {
     "data": {
      "text/plain": [
       "array([ 5.,  3.,  1.,  4., nan,  2.])"
      ]
     },
     "execution_count": 20,
     "metadata": {},
     "output_type": "execute_result"
    }
   ],
   "source": [
    "df.previous_year_rating.unique()    # unique values of previous_year_rating column"
   ]
  },
  {
   "cell_type": "code",
   "execution_count": 21,
   "metadata": {},
   "outputs": [
    {
     "data": {
      "text/plain": [
       "3.0    18618\n",
       "5.0    11741\n",
       "4.0     9877\n",
       "1.0     6223\n",
       "2.0     4225\n",
       "Name: previous_year_rating, dtype: int64"
      ]
     },
     "execution_count": 21,
     "metadata": {},
     "output_type": "execute_result"
    }
   ],
   "source": [
    "df.previous_year_rating.value_counts()    # value counts of previous_year_rating col"
   ]
  },
  {
   "cell_type": "code",
   "execution_count": 22,
   "metadata": {
    "scrolled": false
   },
   "outputs": [
    {
     "data": {
      "text/plain": [
       "0        5.0\n",
       "1        5.0\n",
       "2        3.0\n",
       "3        1.0\n",
       "4        3.0\n",
       "        ... \n",
       "54803    3.0\n",
       "54804    2.0\n",
       "54805    5.0\n",
       "54806    1.0\n",
       "54807    1.0\n",
       "Name: previous_year_rating, Length: 54808, dtype: float64"
      ]
     },
     "execution_count": 22,
     "metadata": {},
     "output_type": "execute_result"
    }
   ],
   "source": [
    "df.previous_year_rating.fillna(df.previous_year_rating.median())    # filling previous_year_rating col using its median"
   ]
  },
  {
   "cell_type": "code",
   "execution_count": 23,
   "metadata": {},
   "outputs": [
    {
     "data": {
      "text/plain": [
       "array([49., 60., 50., 73., 85., 59., 63., 83., 54., 77., 80., 84., 51.,\n",
       "       46., 75., 57., 70., 68., 79., 44., 72., nan, 48., 58., 87., 47.,\n",
       "       52., 88., 71., 65., 62., 53., 78., 91., 82., 69., 55., 74., 86.,\n",
       "       90., 92., 67., 89., 56., 76., 81., 64., 39., 94., 93., 66., 95.,\n",
       "       42., 96., 40., 99., 43., 97., 41., 98.])"
      ]
     },
     "execution_count": 23,
     "metadata": {},
     "output_type": "execute_result"
    }
   ],
   "source": [
    "df.Avg_Training_Score.unique()   # unique values of Avg_Training_Score col"
   ]
  },
  {
   "cell_type": "code",
   "execution_count": 24,
   "metadata": {},
   "outputs": [
    {
     "data": {
      "text/plain": [
       "50.0    2716\n",
       "49.0    2681\n",
       "48.0    2437\n",
       "51.0    2347\n",
       "60.0    2155\n",
       "59.0    2064\n",
       "58.0    1898\n",
       "52.0    1856\n",
       "47.0    1746\n",
       "62.0    1450\n",
       "82.0    1447\n",
       "57.0    1437\n",
       "81.0    1357\n",
       "53.0    1324\n",
       "80.0    1206\n",
       "83.0    1198\n",
       "84.0    1168\n",
       "79.0    1160\n",
       "46.0    1136\n",
       "85.0    1072\n",
       "56.0    1070\n",
       "70.0    1055\n",
       "63.0    1021\n",
       "69.0    1018\n",
       "54.0     997\n",
       "68.0     935\n",
       "78.0     933\n",
       "86.0     912\n",
       "71.0     898\n",
       "55.0     872\n",
       "67.0     728\n",
       "72.0     725\n",
       "64.0     708\n",
       "77.0     697\n",
       "87.0     655\n",
       "65.0     599\n",
       "66.0     580\n",
       "73.0     523\n",
       "76.0     516\n",
       "88.0     444\n",
       "74.0     433\n",
       "75.0     403\n",
       "44.0     335\n",
       "89.0     301\n",
       "90.0     185\n",
       "43.0     176\n",
       "91.0     117\n",
       "92.0      99\n",
       "93.0      84\n",
       "94.0      65\n",
       "42.0      62\n",
       "97.0      49\n",
       "96.0      48\n",
       "95.0      45\n",
       "98.0      37\n",
       "99.0      35\n",
       "41.0      26\n",
       "40.0       5\n",
       "39.0       2\n",
       "Name: Avg_Training_Score, dtype: int64"
      ]
     },
     "execution_count": 24,
     "metadata": {},
     "output_type": "execute_result"
    }
   ],
   "source": [
    "df.Avg_Training_Score.value_counts()   # value counts of Avg_Training_Score col"
   ]
  },
  {
   "cell_type": "code",
   "execution_count": 25,
   "metadata": {},
   "outputs": [
    {
     "data": {
      "text/plain": [
       "0        49.0\n",
       "1        60.0\n",
       "2        50.0\n",
       "3        50.0\n",
       "4        73.0\n",
       "         ... \n",
       "54803    78.0\n",
       "54804    56.0\n",
       "54805    79.0\n",
       "54806    60.0\n",
       "54807    49.0\n",
       "Name: Avg_Training_Score, Length: 54808, dtype: float64"
      ]
     },
     "execution_count": 25,
     "metadata": {},
     "output_type": "execute_result"
    }
   ],
   "source": [
    "df.Avg_Training_Score.fillna(df.Avg_Training_Score.median())    # filling null values using Avg_Training_Score median values"
   ]
  },
  {
   "cell_type": "code",
   "execution_count": 26,
   "metadata": {
    "scrolled": true
   },
   "outputs": [],
   "source": [
    "df = df.drop(['EmployeeID', 'Gender', 'Service Length', 'Recruitment Channel'], axis=1)    # dropping these four columns"
   ]
  },
  {
   "cell_type": "code",
   "execution_count": 27,
   "metadata": {},
   "outputs": [
    {
     "data": {
      "text/html": [
       "<div>\n",
       "<style scoped>\n",
       "    .dataframe tbody tr th:only-of-type {\n",
       "        vertical-align: middle;\n",
       "    }\n",
       "\n",
       "    .dataframe tbody tr th {\n",
       "        vertical-align: top;\n",
       "    }\n",
       "\n",
       "    .dataframe thead th {\n",
       "        text-align: right;\n",
       "    }\n",
       "</style>\n",
       "<table border=\"1\" class=\"dataframe\">\n",
       "  <thead>\n",
       "    <tr style=\"text-align: right;\">\n",
       "      <th></th>\n",
       "      <th>Department</th>\n",
       "      <th>Region_Employment</th>\n",
       "      <th>Education Level</th>\n",
       "      <th>NO_Trainings_LstYear</th>\n",
       "      <th>Age</th>\n",
       "      <th>previous_year_rating</th>\n",
       "      <th>Awards</th>\n",
       "      <th>Avg_Training_Score</th>\n",
       "      <th>Is Promoted</th>\n",
       "    </tr>\n",
       "  </thead>\n",
       "  <tbody>\n",
       "    <tr>\n",
       "      <th>0</th>\n",
       "      <td>Sales &amp; Marketing</td>\n",
       "      <td>7</td>\n",
       "      <td>Master's &amp; above</td>\n",
       "      <td>1</td>\n",
       "      <td>35.0</td>\n",
       "      <td>5.0</td>\n",
       "      <td>NO</td>\n",
       "      <td>49.0</td>\n",
       "      <td>0</td>\n",
       "    </tr>\n",
       "    <tr>\n",
       "      <th>1</th>\n",
       "      <td>Operations</td>\n",
       "      <td>22</td>\n",
       "      <td>Bachelor's</td>\n",
       "      <td>1</td>\n",
       "      <td>30.0</td>\n",
       "      <td>5.0</td>\n",
       "      <td>NO</td>\n",
       "      <td>60.0</td>\n",
       "      <td>0</td>\n",
       "    </tr>\n",
       "    <tr>\n",
       "      <th>2</th>\n",
       "      <td>Sales &amp; Marketing</td>\n",
       "      <td>19</td>\n",
       "      <td>Bachelor's</td>\n",
       "      <td>1</td>\n",
       "      <td>34.0</td>\n",
       "      <td>3.0</td>\n",
       "      <td>NO</td>\n",
       "      <td>50.0</td>\n",
       "      <td>0</td>\n",
       "    </tr>\n",
       "    <tr>\n",
       "      <th>3</th>\n",
       "      <td>Sales &amp; Marketing</td>\n",
       "      <td>23</td>\n",
       "      <td>Bachelor's</td>\n",
       "      <td>2</td>\n",
       "      <td>39.0</td>\n",
       "      <td>1.0</td>\n",
       "      <td>NO</td>\n",
       "      <td>50.0</td>\n",
       "      <td>0</td>\n",
       "    </tr>\n",
       "    <tr>\n",
       "      <th>4</th>\n",
       "      <td>Technology</td>\n",
       "      <td>26</td>\n",
       "      <td>Bachelor's</td>\n",
       "      <td>1</td>\n",
       "      <td>45.0</td>\n",
       "      <td>3.0</td>\n",
       "      <td>NO</td>\n",
       "      <td>73.0</td>\n",
       "      <td>0</td>\n",
       "    </tr>\n",
       "  </tbody>\n",
       "</table>\n",
       "</div>"
      ],
      "text/plain": [
       "          Department  Region_Employment   Education Level  \\\n",
       "0  Sales & Marketing                  7  Master's & above   \n",
       "1         Operations                 22        Bachelor's   \n",
       "2  Sales & Marketing                 19        Bachelor's   \n",
       "3  Sales & Marketing                 23        Bachelor's   \n",
       "4         Technology                 26        Bachelor's   \n",
       "\n",
       "   NO_Trainings_LstYear   Age  previous_year_rating Awards  \\\n",
       "0                     1  35.0                   5.0     NO   \n",
       "1                     1  30.0                   5.0     NO   \n",
       "2                     1  34.0                   3.0     NO   \n",
       "3                     2  39.0                   1.0     NO   \n",
       "4                     1  45.0                   3.0     NO   \n",
       "\n",
       "   Avg_Training_Score  Is Promoted  \n",
       "0                49.0            0  \n",
       "1                60.0            0  \n",
       "2                50.0            0  \n",
       "3                50.0            0  \n",
       "4                73.0            0  "
      ]
     },
     "execution_count": 27,
     "metadata": {},
     "output_type": "execute_result"
    }
   ],
   "source": [
    "df.head()"
   ]
  },
  {
   "cell_type": "code",
   "execution_count": 28,
   "metadata": {},
   "outputs": [
    {
     "data": {
      "text/plain": [
       "5013"
      ]
     },
     "execution_count": 28,
     "metadata": {},
     "output_type": "execute_result"
    }
   ],
   "source": [
    "df.duplicated().sum()    # checking total duolicate values"
   ]
  },
  {
   "cell_type": "code",
   "execution_count": 29,
   "metadata": {},
   "outputs": [],
   "source": [
    "df.drop_duplicates(keep='first', inplace=True)    # dropping duplicates whuile keeping its first value"
   ]
  },
  {
   "cell_type": "code",
   "execution_count": 30,
   "metadata": {},
   "outputs": [
    {
     "data": {
      "text/plain": [
       "0"
      ]
     },
     "execution_count": 30,
     "metadata": {},
     "output_type": "execute_result"
    }
   ],
   "source": [
    "df.duplicated().sum()"
   ]
  },
  {
   "cell_type": "code",
   "execution_count": 31,
   "metadata": {},
   "outputs": [
    {
     "data": {
      "text/plain": [
       "0    45175\n",
       "1     4620\n",
       "Name: Is Promoted, dtype: int64"
      ]
     },
     "execution_count": 31,
     "metadata": {},
     "output_type": "execute_result"
    }
   ],
   "source": [
    "df['Is Promoted'].value_counts()"
   ]
  },
  {
   "cell_type": "code",
   "execution_count": 32,
   "metadata": {},
   "outputs": [
    {
     "data": {
      "text/plain": [
       "<AxesSubplot:xlabel='Is Promoted', ylabel='count'>"
      ]
     },
     "execution_count": 32,
     "metadata": {},
     "output_type": "execute_result"
    },
    {
     "data": {
      "image/png": "[encoded data removed]",
      "text/plain": [
       "<Figure size 640x480 with 1 Axes>"
      ]
     },
     "metadata": {},
     "output_type": "display_data"
    }
   ],
   "source": [
    "sns.countplot(x=df['Is Promoted'], data=df)    # countplot of target variable"
   ]
  },
  {
   "cell_type": "code",
   "execution_count": 33,
   "metadata": {},
   "outputs": [],
   "source": [
    "df = pd.get_dummies(df, columns=['Department', 'Education Level', 'Awards'])    # getting dummies data of these columns\n"
   ]
  },
  {
   "cell_type": "code",
   "execution_count": 34,
   "metadata": {},
   "outputs": [
    {
     "data": {
      "text/html": [
       "<div>\n",
       "<style scoped>\n",
       "    .dataframe tbody tr th:only-of-type {\n",
       "        vertical-align: middle;\n",
       "    }\n",
       "\n",
       "    .dataframe tbody tr th {\n",
       "        vertical-align: top;\n",
       "    }\n",
       "\n",
       "    .dataframe thead th {\n",
       "        text-align: right;\n",
       "    }\n",
       "</style>\n",
       "<table border=\"1\" class=\"dataframe\">\n",
       "  <thead>\n",
       "    <tr style=\"text-align: right;\">\n",
       "      <th></th>\n",
       "      <th>Region_Employment</th>\n",
       "      <th>NO_Trainings_LstYear</th>\n",
       "      <th>Age</th>\n",
       "      <th>previous_year_rating</th>\n",
       "      <th>Avg_Training_Score</th>\n",
       "      <th>Is Promoted</th>\n",
       "      <th>Department_-</th>\n",
       "      <th>Department_Analytics</th>\n",
       "      <th>Department_Finance</th>\n",
       "      <th>Department_HR</th>\n",
       "      <th>...</th>\n",
       "      <th>Department_Operations</th>\n",
       "      <th>Department_Procurement</th>\n",
       "      <th>Department_R&amp;D</th>\n",
       "      <th>Department_Sales &amp; Marketing</th>\n",
       "      <th>Department_Technology</th>\n",
       "      <th>Education Level_Bachelor's</th>\n",
       "      <th>Education Level_Below Secondary</th>\n",
       "      <th>Education Level_Master's &amp; above</th>\n",
       "      <th>Awards_NO</th>\n",
       "      <th>Awards_YES</th>\n",
       "    </tr>\n",
       "  </thead>\n",
       "  <tbody>\n",
       "    <tr>\n",
       "      <th>0</th>\n",
       "      <td>7</td>\n",
       "      <td>1</td>\n",
       "      <td>35.0</td>\n",
       "      <td>5.0</td>\n",
       "      <td>49.0</td>\n",
       "      <td>0</td>\n",
       "      <td>0</td>\n",
       "      <td>0</td>\n",
       "      <td>0</td>\n",
       "      <td>0</td>\n",
       "      <td>...</td>\n",
       "      <td>0</td>\n",
       "      <td>0</td>\n",
       "      <td>0</td>\n",
       "      <td>1</td>\n",
       "      <td>0</td>\n",
       "      <td>0</td>\n",
       "      <td>0</td>\n",
       "      <td>1</td>\n",
       "      <td>1</td>\n",
       "      <td>0</td>\n",
       "    </tr>\n",
       "    <tr>\n",
       "      <th>1</th>\n",
       "      <td>22</td>\n",
       "      <td>1</td>\n",
       "      <td>30.0</td>\n",
       "      <td>5.0</td>\n",
       "      <td>60.0</td>\n",
       "      <td>0</td>\n",
       "      <td>0</td>\n",
       "      <td>0</td>\n",
       "      <td>0</td>\n",
       "      <td>0</td>\n",
       "      <td>...</td>\n",
       "      <td>1</td>\n",
       "      <td>0</td>\n",
       "      <td>0</td>\n",
       "      <td>0</td>\n",
       "      <td>0</td>\n",
       "      <td>1</td>\n",
       "      <td>0</td>\n",
       "      <td>0</td>\n",
       "      <td>1</td>\n",
       "      <td>0</td>\n",
       "    </tr>\n",
       "    <tr>\n",
       "      <th>2</th>\n",
       "      <td>19</td>\n",
       "      <td>1</td>\n",
       "      <td>34.0</td>\n",
       "      <td>3.0</td>\n",
       "      <td>50.0</td>\n",
       "      <td>0</td>\n",
       "      <td>0</td>\n",
       "      <td>0</td>\n",
       "      <td>0</td>\n",
       "      <td>0</td>\n",
       "      <td>...</td>\n",
       "      <td>0</td>\n",
       "      <td>0</td>\n",
       "      <td>0</td>\n",
       "      <td>1</td>\n",
       "      <td>0</td>\n",
       "      <td>1</td>\n",
       "      <td>0</td>\n",
       "      <td>0</td>\n",
       "      <td>1</td>\n",
       "      <td>0</td>\n",
       "    </tr>\n",
       "    <tr>\n",
       "      <th>3</th>\n",
       "      <td>23</td>\n",
       "      <td>2</td>\n",
       "      <td>39.0</td>\n",
       "      <td>1.0</td>\n",
       "      <td>50.0</td>\n",
       "      <td>0</td>\n",
       "      <td>0</td>\n",
       "      <td>0</td>\n",
       "      <td>0</td>\n",
       "      <td>0</td>\n",
       "      <td>...</td>\n",
       "      <td>0</td>\n",
       "      <td>0</td>\n",
       "      <td>0</td>\n",
       "      <td>1</td>\n",
       "      <td>0</td>\n",
       "      <td>1</td>\n",
       "      <td>0</td>\n",
       "      <td>0</td>\n",
       "      <td>1</td>\n",
       "      <td>0</td>\n",
       "    </tr>\n",
       "    <tr>\n",
       "      <th>4</th>\n",
       "      <td>26</td>\n",
       "      <td>1</td>\n",
       "      <td>45.0</td>\n",
       "      <td>3.0</td>\n",
       "      <td>73.0</td>\n",
       "      <td>0</td>\n",
       "      <td>0</td>\n",
       "      <td>0</td>\n",
       "      <td>0</td>\n",
       "      <td>0</td>\n",
       "      <td>...</td>\n",
       "      <td>0</td>\n",
       "      <td>0</td>\n",
       "      <td>0</td>\n",
       "      <td>0</td>\n",
       "      <td>1</td>\n",
       "      <td>1</td>\n",
       "      <td>0</td>\n",
       "      <td>0</td>\n",
       "      <td>1</td>\n",
       "      <td>0</td>\n",
       "    </tr>\n",
       "  </tbody>\n",
       "</table>\n",
       "<p>5 rows × 21 columns</p>\n",
       "</div>"
      ],
      "text/plain": [
       "   Region_Employment  NO_Trainings_LstYear   Age  previous_year_rating  \\\n",
       "0                  7                     1  35.0                   5.0   \n",
       "1                 22                     1  30.0                   5.0   \n",
       "2                 19                     1  34.0                   3.0   \n",
       "3                 23                     2  39.0                   1.0   \n",
       "4                 26                     1  45.0                   3.0   \n",
       "\n",
       "   Avg_Training_Score  Is Promoted  Department_-  Department_Analytics  \\\n",
       "0                49.0            0             0                     0   \n",
       "1                60.0            0             0                     0   \n",
       "2                50.0            0             0                     0   \n",
       "3                50.0            0             0                     0   \n",
       "4                73.0            0             0                     0   \n",
       "\n",
       "   Department_Finance  Department_HR  ...  Department_Operations  \\\n",
       "0                   0              0  ...                      0   \n",
       "1                   0              0  ...                      1   \n",
       "2                   0              0  ...                      0   \n",
       "3                   0              0  ...                      0   \n",
       "4                   0              0  ...                      0   \n",
       "\n",
       "   Department_Procurement  Department_R&D  Department_Sales & Marketing  \\\n",
       "0                       0               0                             1   \n",
       "1                       0               0                             0   \n",
       "2                       0               0                             1   \n",
       "3                       0               0                             1   \n",
       "4                       0               0                             0   \n",
       "\n",
       "   Department_Technology  Education Level_Bachelor's  \\\n",
       "0                      0                           0   \n",
       "1                      0                           1   \n",
       "2                      0                           1   \n",
       "3                      0                           1   \n",
       "4                      1                           1   \n",
       "\n",
       "   Education Level_Below Secondary  Education Level_Master's & above  \\\n",
       "0                                0                                 1   \n",
       "1                                0                                 0   \n",
       "2                                0                                 0   \n",
       "3                                0                                 0   \n",
       "4                                0                                 0   \n",
       "\n",
       "   Awards_NO  Awards_YES  \n",
       "0          1           0  \n",
       "1          1           0  \n",
       "2          1           0  \n",
       "3          1           0  \n",
       "4          1           0  \n",
       "\n",
       "[5 rows x 21 columns]"
      ]
     },
     "execution_count": 34,
     "metadata": {},
     "output_type": "execute_result"
    }
   ],
   "source": [
    "df.head()"
   ]
  },
  {
   "cell_type": "code",
   "execution_count": 34,
   "metadata": {},
   "outputs": [
    {
     "name": "stdout",
     "output_type": "stream",
     "text": [
      "sagemaker.config INFO - Not applying SDK defaults from location: /etc/xdg/sagemaker/config.yaml\n",
      "sagemaker.config INFO - Not applying SDK defaults from location: /home/ec2-user/.config/sagemaker/config.yaml\n",
      "sagemaker.config INFO - Not applying SDK defaults from location: /etc/xdg/sagemaker/config.yaml\n",
      "sagemaker.config INFO - Not applying SDK defaults from location: /home/ec2-user/.config/sagemaker/config.yaml\n",
      "us-east-1\n"
     ]
    }
   ],
   "source": [
    "import os\n",
    "import boto3\n",
    "import re\n",
    "import sagemaker\n",
    "\n",
    "role = sagemaker.get_execution_role()   # execution role\n",
    "region = boto3.Session().region_name    # region name\n",
    "smclient = boto3.Session().client(\"sagemaker\")    # setting sagemaker session \n",
    "bucket = \"day09-project1\"\n",
    "prefix = (\"sagemaker/Employess-Promotion\") # place to upload training files within the bucket\n",
    "print (region)"
   ]
  },
  {
   "cell_type": "markdown",
   "metadata": {},
   "source": [
    "### Training"
   ]
  },
  {
   "cell_type": "code",
   "execution_count": 38,
   "metadata": {},
   "outputs": [],
   "source": [
    "# splitting df into train, validation and test data in 70%, 20% and 10% respectively.\n",
    "train_data, validation_data, test_data = np.split(df.sample(frac=1, random_state=1729),[int(0.7 * len(df)), int(0.9 * len(df))])\n",
    "\n",
    "pd.concat([train_data[\"Is Promoted\"], train_data.drop(\"Is Promoted\", axis=1)], axis=1).to_csv(\"train.csv\", index=False, header=False)  \n",
    "pd.concat([validation_data[\"Is Promoted\"], validation_data.drop(\"Is Promoted\", axis=1)], axis=1).to_csv(\"validation.csv\", index=False, header=False)\n",
    "pd.concat([test_data[\"Is Promoted\"], test_data.drop(\"Is Promoted\", axis=1)], axis=1).to_csv(\"test.csv\", index=False, header=False)"
   ]
  },
  {
   "cell_type": "code",
   "execution_count": 36,
   "metadata": {},
   "outputs": [],
   "source": [
    "# storing test and train data\n",
    "train_y = train_data[\"Is Promoted\"]\n",
    "train_X = train_data.drop(\"Is Promoted\", axis=1)\n",
    "test_y = test_data[\"Is Promoted\"]\n",
    "test_X = test_data.drop(\"Is Promoted\", axis=1)\n"
   ]
  },
  {
   "cell_type": "code",
   "execution_count": 37,
   "metadata": {},
   "outputs": [],
   "source": [
    "# uploading train and validation in s3 bucket\n",
    "boto3.Session().resource(\"s3\").Bucket(bucket).Object(\n",
    " os.path.join(prefix, \"train/train.csv\")\n",
    ").upload_file(\"train.csv\")\n",
    "boto3.Session().resource(\"s3\").Bucket(bucket).Object(\n",
    " os.path.join(prefix, \"validation/validation.csv\")\n",
    ").upload_file(\"validation.csv\")"
   ]
  },
  {
   "cell_type": "markdown",
   "metadata": {},
   "source": [
    "### HP Tuning"
   ]
  },
  {
   "cell_type": "markdown",
   "metadata": {},
   "source": [
    "ParameterRanges: Specifies the search space for hyperparameters.\n",
    "* CategoricalParameterRanges: Categorical hyperparameters are those whose values come from a discrete set of categories or options.(none in this example).\n",
    "* ContinuousParameterRanges: Continuous hyperparameters are those that can take any real value within a specified range:\n",
    "* eta: Learning rate with a range between 0 and 1.\n",
    "* min_child_weight: Minimum sum of instance weight (hessian) needed in a child.\n",
    "* alpha: L1 regularization term with a range between 0 and 2.\n",
    "* IntegerParameterRanges: For integer-valued hyperparameters.\n",
    "* max_depth: Maximum depth of a tree with a range between 1 and 10.\n",
    "\n",
    "ResourceLimits: Specifies resource limits for the tuning job.\n",
    "* MaxNumberOfTrainingJobs: Maximum number of training jobs to run during the tuning job.\n",
    "* MaxParallelTrainingJobs: Maximum number of training jobs to run in parallel.\n",
    "\n",
    "Strategy: Specifies the tuning strategy. In this case, it's set to \"Bayesian\".\n",
    "\n",
    "HyperParameterTuningJobObjective: Specifies the objective metric to optimize and whether to minimize or maximize it.\n",
    "\n",
    "MetricName: Name of the metric to optimize, set to \"validation:accuracy\" (The ratio of correctly predicted instances to the total instances).\n",
    "Type: Set to \"Maximize\" since we want to maximize the accuracy."
   ]
  },
  {
   "cell_type": "code",
   "execution_count": 38,
   "metadata": {},
   "outputs": [
    {
     "name": "stdout",
     "output_type": "stream",
     "text": [
      "xgboost-tuningjob-26-21-56-00\n"
     ]
    }
   ],
   "source": [
    "from time import gmtime, strftime, sleep\n",
    "\n",
    "tuning_job_name = \"xgboost-tuningjob-\" + strftime(\"%d-%H-%M-%S\", gmtime())   # generating unique hyperaparameter tuning job name\n",
    "print(tuning_job_name)\n",
    "\n",
    "# configuration for the hyperparameter tuning job\n",
    "tuning_job_config = {\n",
    "    \"ParameterRanges\": {\n",
    "        \"CategoricalParameterRanges\": [],\n",
    "        \"ContinuousParameterRanges\": [\n",
    "            {\n",
    "                \"MaxValue\": \"1\",\n",
    "                \"MinValue\": \"0\",\n",
    "                \"Name\": \"eta\",      # Learning rate parameter\n",
    "            },\n",
    "            {\n",
    "                \"MaxValue\": \"10\",\n",
    "                \"MinValue\": \"1\",\n",
    "                \"Name\": \"min_child_weight\",    # Minimum sum of instance weight in a child\n",
    "            },\n",
    "            {\n",
    "                \"MaxValue\": \"2\",\n",
    "                \"MinValue\": \"0\",\n",
    "                \"Name\": \"alpha\",    # # L1 regularization term\n",
    "            },\n",
    "        ],\n",
    "        \"IntegerParameterRanges\": [\n",
    "            {\n",
    "                \"MaxValue\": \"10\",\n",
    "                \"MinValue\": \"1\",\n",
    "                \"Name\": \"max_depth\",    # Maximum depth of a tree\n",
    "            }\n",
    "        ],\n",
    "    },\n",
    "    \"ResourceLimits\": {\"MaxNumberOfTrainingJobs\": 10, \"MaxParallelTrainingJobs\": 3},\n",
    "    \"Strategy\": \"Bayesian\",\n",
    "    \"HyperParameterTuningJobObjective\": {\"MetricName\": \"validation:accuracy\", \"Type\": \"Maximize\"},\n",
    "}"
   ]
  },
  {
   "cell_type": "markdown",
   "metadata": {},
   "source": [
    "The following block includes details about the algorithm, input data configuration, output data configuration, resource configuration, role ARN, hyperparameters, and stopping conditions.\n",
    "* The AlgorithmSpecification section specifies the training image and input mode.\n",
    "* The InputDataConfig section specifies details about the training and validation datasets, including S3 paths.\n",
    "* The OutputDataConfig section specifies the S3 path where the output model artifacts will be stored.\n",
    "* The ResourceConfig section specifies the instance count, instance type, and volume size.\n",
    "* The StaticHyperParameters section specifies static hyperparameters for the XGBoost algorithm.\n",
    "* The StoppingCondition section specifies the maximum runtime for the training job."
   ]
  },
  {
   "cell_type": "markdown",
   "metadata": {},
   "source": [
    "Static hyperparamters:\n",
    "* eval_metric: Specifies the evaluation metric to be used for model performance assessment during training. In this case, the chosen evaluation metric is Area Under the Curve (AUC) for the Receiver Operating Characteristic (ROC) curve. Since it is a common metric for binary classification problems and represents the area under the ROC curve, which measures the model's ability to distinguish between positive and negative examples.\n",
    "* num_round: Specifies the number of boosting rounds (iterations) for the XGBoost algorithm. This parameter determines the number of boosting rounds (iterations) during the training process. A higher number of rounds can potentially lead to a more accurate model, but it's important to monitor for overfitting.\n",
    "* objective: Specifies the learning task and corresponding objective function. This parameter indicates that the training task is binary classification, and the objective function to be optimized is the logistic loss. Since the logistic loss is suitable for binary classification problems, and optimizing it leads to the logistic regression model.\n",
    "* rate_drop: Specifies the rate at which the algorithm drops trees during the dropout process. Dropout is a regularization technique used to prevent overfitting. This parameter controls the fraction of previously dropped trees to be dropped during a training iteration. A value of 0.3 means that 30% of the trees are dropped during each iteration.\n",
    "* tweedie_variance_power: Specifies the power for the variance function in the Tweedie distribution. This parameter is relevant when the objective function is set to Tweedie, which is used for modeling non-negative continuous target variables with a variance function. The specified value of 1.4 determines the power parameter for the Tweedie distribution's variance function."
   ]
  },
  {
   "cell_type": "code",
   "execution_count": 39,
   "metadata": {},
   "outputs": [],
   "source": [
    "from sagemaker.image_uris import retrieve\n",
    "\n",
    "training_image = retrieve(framework=\"xgboost\", region=region, version=\"1.5-1\")    # Retrieving the URI of the pre-built Docker image for XGBoost\n",
    "\n",
    "# S3 input paths for training and validation data\n",
    "s3_input_train = \"s3://{}/{}/train\".format(bucket, prefix)\n",
    "s3_input_validation = \"s3://{}/{}/validation/\".format(bucket, prefix)\n",
    "\n",
    "# configuration for the SageMaker training job\n",
    "training_job_definition = {\n",
    "    \"AlgorithmSpecification\": {\"TrainingImage\": training_image, \"TrainingInputMode\": \"File\"},    # algorithm and its training image\n",
    "    \"InputDataConfig\": [    # input data configuration for training and validation\n",
    "        {\n",
    "            \"ChannelName\": \"train\",    # Channel name for training data\n",
    "            \"CompressionType\": \"None\",\n",
    "            \"ContentType\": \"csv\",\n",
    "            \"DataSource\": {\n",
    "                \"S3DataSource\": {\n",
    "                    \"S3DataDistributionType\": \"FullyReplicated\",\n",
    "                    \"S3DataType\": \"S3Prefix\",\n",
    "                    \"S3Uri\": s3_input_train,    # S3 path for training data\n",
    "                }\n",
    "            },\n",
    "        },\n",
    "        {\n",
    "            \"ChannelName\": \"validation\",    # Channel name for validation data\n",
    "            \"CompressionType\": \"None\",\n",
    "            \"ContentType\": \"csv\",\n",
    "            \"DataSource\": {\n",
    "                \"S3DataSource\": {\n",
    "                    \"S3DataDistributionType\": \"FullyReplicated\",\n",
    "                    \"S3DataType\": \"S3Prefix\",\n",
    "                    \"S3Uri\": s3_input_validation,   # S3 path for validation data\n",
    "                }\n",
    "            },\n",
    "        },\n",
    "    ],\n",
    "    \"OutputDataConfig\": {\"S3OutputPath\": \"s3://{}/{}/output\".format(bucket, prefix)},    # output data configuration for storing model artifacts\n",
    "    \"ResourceConfig\": {\"InstanceCount\": 1, \"InstanceType\": \"ml.m4.xlarge\", \"VolumeSizeInGB\": 10},    # resource configuration for training instances\n",
    "    \"RoleArn\": role,   # IAM role \n",
    "    \"StaticHyperParameters\": {    # static hyperparameters for the XGBoost algorithm\n",
    "        \"eval_metric\": \"auc\",\n",
    "        \"num_round\": \"100\",\n",
    "        \"objective\": \"binary:logistic\",\n",
    "        \"rate_drop\": \"0.3\",\n",
    "        \"tweedie_variance_power\": \"1.4\",\n",
    "    },\n",
    "    \"StoppingCondition\": {\"MaxRuntimeInSeconds\": 43200},    #  stopping conditions for the training job\n",
    "}"
   ]
  },
  {
   "cell_type": "code",
   "execution_count": 40,
   "metadata": {},
   "outputs": [
    {
     "data": {
      "text/plain": [
       "{'HyperParameterTuningJobArn': 'arn:aws:sagemaker:us-east-1:585522057818:hyper-parameter-tuning-job/xgboost-tuningjob-26-21-56-00',\n",
       " 'ResponseMetadata': {'RequestId': '4764dc56-9e64-411d-b17d-851601b8cfa7',\n",
       "  'HTTPStatusCode': 200,\n",
       "  'HTTPHeaders': {'x-amzn-requestid': '4764dc56-9e64-411d-b17d-851601b8cfa7',\n",
       "   'content-type': 'application/x-amz-json-1.1',\n",
       "   'content-length': '130',\n",
       "   'date': 'Sun, 26 Nov 2023 21:56:04 GMT'},\n",
       "  'RetryAttempts': 0}}"
      ]
     },
     "execution_count": 40,
     "metadata": {},
     "output_type": "execute_result"
    }
   ],
   "source": [
    "# creating the hyperparameter tuning job\n",
    "smclient.create_hyper_parameter_tuning_job(\n",
    "    HyperParameterTuningJobName=tuning_job_name,\n",
    "    HyperParameterTuningJobConfig=tuning_job_config,\n",
    "    TrainingJobDefinition=training_job_definition,\n",
    ")"
   ]
  },
  {
   "cell_type": "code",
   "execution_count": 41,
   "metadata": {},
   "outputs": [
    {
     "data": {
      "text/plain": [
       "'InProgress'"
      ]
     },
     "execution_count": 41,
     "metadata": {},
     "output_type": "execute_result"
    }
   ],
   "source": [
    "# status of hp\n",
    "smclient.describe_hyper_parameter_tuning_job(HyperParameterTuningJobName=tuning_job_name)[\"HyperParameterTuningJobStatus\"]"
   ]
  },
  {
   "cell_type": "code",
   "execution_count": 42,
   "metadata": {},
   "outputs": [
    {
     "data": {
      "text/plain": [
       "'xgboost-tuningjob-26-21-56-00'"
      ]
     },
     "execution_count": 42,
     "metadata": {},
     "output_type": "execute_result"
    }
   ],
   "source": [
    "# Job name of hp\n",
    "smclient.describe_hyper_parameter_tuning_job(HyperParameterTuningJobName=tuning_job_name)['HyperParameterTuningJobName']"
   ]
  },
  {
   "cell_type": "code",
   "execution_count": 50,
   "metadata": {},
   "outputs": [
    {
     "name": "stdout",
     "output_type": "stream",
     "text": [
      "10 training jobs have completed\n"
     ]
    }
   ],
   "source": [
    "# run this cell to check current status of hyperparameter tuning job\n",
    "tuning_job_result = smclient.describe_hyper_parameter_tuning_job(\n",
    "    HyperParameterTuningJobName=tuning_job_name\n",
    ")\n",
    "\n",
    "status = tuning_job_result[\"HyperParameterTuningJobStatus\"]\n",
    "if status != \"Completed\":\n",
    "    print(\"Reminder: the tuning job has not been completed.\")\n",
    "\n",
    "job_count = tuning_job_result[\"TrainingJobStatusCounters\"][\"Completed\"]\n",
    "print(\"%d training jobs have completed\" % job_count)\n",
    "\n",
    "objective = tuning_job_result[\"HyperParameterTuningJobConfig\"][\"HyperParameterTuningJobObjective\"]\n",
    "is_minimize = objective[\"Type\"] != \"Maximize\"\n",
    "objective_name = objective[\"MetricName\"]"
   ]
  },
  {
   "cell_type": "code",
   "execution_count": 51,
   "metadata": {},
   "outputs": [
    {
     "name": "stdout",
     "output_type": "stream",
     "text": [
      "Best model found so far:\n",
      "{'CreationTime': datetime.datetime(2023, 11, 26, 22, 2, 1, tzinfo=tzlocal()),\n",
      " 'FinalHyperParameterTuningJobObjectiveMetric': {'MetricName': 'validation:accuracy',\n",
      "                                                 'Value': 0.9371399879455566},\n",
      " 'ObjectiveStatus': 'Succeeded',\n",
      " 'TrainingEndTime': datetime.datetime(2023, 11, 26, 22, 2, 52, tzinfo=tzlocal()),\n",
      " 'TrainingJobArn': 'arn:aws:sagemaker:us-east-1:585522057818:training-job/xgboost-tuningjob-26-21-56-00-010-62a4af05',\n",
      " 'TrainingJobName': 'xgboost-tuningjob-26-21-56-00-010-62a4af05',\n",
      " 'TrainingJobStatus': 'Completed',\n",
      " 'TrainingStartTime': datetime.datetime(2023, 11, 26, 22, 2, 5, tzinfo=tzlocal()),\n",
      " 'TunedHyperParameters': {'alpha': '1.524352266875594',\n",
      "                          'eta': '0.5504740010557349',\n",
      "                          'max_depth': '6',\n",
      "                          'min_child_weight': '5.804222989525692'}}\n"
     ]
    }
   ],
   "source": [
    "from pprint import pprint\n",
    "# extracting best training job from the rest\n",
    "if tuning_job_result.get(\"BestTrainingJob\", None):\n",
    "    print(\"Best model found so far:\")\n",
    "    pprint(tuning_job_result[\"BestTrainingJob\"])\n",
    "else:\n",
    "    print(\"No training jobs have reported results yet.\")"
   ]
  },
  {
   "cell_type": "code",
   "execution_count": 52,
   "metadata": {},
   "outputs": [
    {
     "name": "stdout",
     "output_type": "stream",
     "text": [
      "Job name is: xgboost-2023-11-26-22-05-31\n"
     ]
    }
   ],
   "source": [
    "# Now training the model with the best hp values\n",
    "xgboost_job = \"xgboost-\" + strftime(\"%Y-%m-%d-%H-%M-%S\", gmtime())\n",
    "print(\"Job name is:\", xgboost_job)\n",
    "\n",
    "s3_input_train = \"s3://{}/{}/train\".format(bucket, prefix)\n",
    "s3_input_validation = \"s3://{}/{}/validation/\".format(bucket, prefix)\n",
    "\n",
    "training_job_definition = {\n",
    "    \"RoleArn\": role,\n",
    "    \"TrainingJobName\": xgboost_job,\n",
    "    \"AlgorithmSpecification\": {\"TrainingImage\": training_image, \"TrainingInputMode\": \"File\"},\n",
    "    \"InputDataConfig\": [\n",
    "        {\n",
    "            \"ChannelName\": \"train\",\n",
    "            \"CompressionType\": \"None\",\n",
    "            \"ContentType\": \"csv\",\n",
    "            \"DataSource\": {\n",
    "                \"S3DataSource\": {\n",
    "                    \"S3DataDistributionType\": \"FullyReplicated\",\n",
    "                    \"S3DataType\": \"S3Prefix\",\n",
    "                    \"S3Uri\": s3_input_train,\n",
    "                }\n",
    "            },\n",
    "        },\n",
    "        {\n",
    "            \"ChannelName\": \"validation\",\n",
    "            \"CompressionType\": \"None\",\n",
    "            \"ContentType\": \"csv\",\n",
    "            \"DataSource\": {\n",
    "                \"S3DataSource\": {\n",
    "                    \"S3DataDistributionType\": \"FullyReplicated\",\n",
    "                    \"S3DataType\": \"S3Prefix\",\n",
    "                    \"S3Uri\": s3_input_validation,\n",
    "                }\n",
    "            },\n",
    "        },\n",
    "    ],\n",
    "    \"OutputDataConfig\": {\"S3OutputPath\": \"s3://{}/{}/output\".format(bucket, prefix)},\n",
    "    \"ResourceConfig\": {\"InstanceCount\": 1, \"InstanceType\": \"ml.m4.xlarge\", \"VolumeSizeInGB\": 10},\n",
    "    \"RoleArn\": role,\n",
    "    \"HyperParameters\": {\n",
    "        \"eval_metric\": \"auc\",\n",
    "        \"num_round\": \"100\",\n",
    "        \"objective\": \"binary:logistic\",\n",
    "        \"rate_drop\": \"0.3\",\n",
    "        \"tweedie_variance_power\": \"1.4\",\n",
    "        \"alpha\": '1.524352266875594',\n",
    "        'eta': '0.5504740010557349',\n",
    "        'max_depth': '6',\n",
    "        'min_child_weight': '5.804222989525692'\n",
    "    },\n",
    "    \"StoppingCondition\": {\"MaxRuntimeInSeconds\": 43200},\n",
    "}"
   ]
  },
  {
   "cell_type": "code",
   "execution_count": 53,
   "metadata": {},
   "outputs": [
    {
     "name": "stdout",
     "output_type": "stream",
     "text": [
      "InProgress\n"
     ]
    }
   ],
   "source": [
    "sm = boto3.client(\"sagemaker\")\n",
    "sm.create_training_job(**training_job_definition)\n",
    "# checking the status of training\n",
    "status = sm.describe_training_job(TrainingJobName=xgboost_job)[\"TrainingJobStatus\"]\n",
    "print(status)\n",
    "sm.get_waiter(\"training_job_completed_or_stopped\").wait(TrainingJobName=xgboost_job)\n",
    "if status == \"Failed\":\n",
    "    message = sm.describe_training_job(TrainingJobName=xgboost_job)[\"FailureReason\"]\n",
    "    print(\"Training failed with the following error: {}\".format(message))\n",
    "    raise Exception(\"Training job failed\")"
   ]
  },
  {
   "cell_type": "markdown",
   "metadata": {},
   "source": [
    "### Hosting"
   ]
  },
  {
   "cell_type": "code",
   "execution_count": 54,
   "metadata": {},
   "outputs": [
    {
     "name": "stdout",
     "output_type": "stream",
     "text": [
      "arn:aws:sagemaker:us-east-1:585522057818:model/xgboost-2023-11-26-22-05-31\n"
     ]
    }
   ],
   "source": [
    "# creating a model using the specified configuration.\n",
    "xgboost_hosting_container = {\n",
    "    \"Image\": training_image,\n",
    "    \"ModelDataUrl\": sm.describe_training_job(TrainingJobName=xgboost_job)[\"ModelArtifacts\"][\n",
    "        \"S3ModelArtifacts\"\n",
    "    ],\n",
    "}\n",
    "\n",
    "create_model_response = sm.create_model(\n",
    "    ModelName=xgboost_job, ExecutionRoleArn=role, PrimaryContainer=xgboost_hosting_container\n",
    ")\n",
    "\n",
    "print(create_model_response[\"ModelArn\"])"
   ]
  },
  {
   "cell_type": "code",
   "execution_count": 55,
   "metadata": {},
   "outputs": [
    {
     "name": "stdout",
     "output_type": "stream",
     "text": [
      "xgboost-endpoint-config-2023-11-26-22-10-27\n",
      "Endpoint Config Arn: arn:aws:sagemaker:us-east-1:585522057818:endpoint-config/xgboost-endpoint-config-2023-11-26-22-10-27\n"
     ]
    }
   ],
   "source": [
    "# configuring endpoint with unique name based on current time\n",
    "xgboost_endpoint_config = \"xgboost-endpoint-config-\" + strftime(\"%Y-%m-%d-%H-%M-%S\", gmtime())\n",
    "print(xgboost_endpoint_config)\n",
    "create_endpoint_config_response = sm.create_endpoint_config(\n",
    "    EndpointConfigName=xgboost_endpoint_config,\n",
    "    ProductionVariants=[\n",
    "        {\n",
    "            \"InstanceType\": \"ml.m4.xlarge\",\n",
    "            \"InitialInstanceCount\": 1,\n",
    "            \"ModelName\": xgboost_job,\n",
    "            \"VariantName\": \"AllTraffic\",\n",
    "        }\n",
    "    ],\n",
    ")\n",
    "\n",
    "print(\"Endpoint Config Arn: \" + create_endpoint_config_response[\"EndpointConfigArn\"])"
   ]
  },
  {
   "cell_type": "code",
   "execution_count": 56,
   "metadata": {},
   "outputs": [
    {
     "name": "stdout",
     "output_type": "stream",
     "text": [
      "xgboost-endpoint-202311262210\n",
      "arn:aws:sagemaker:us-east-1:585522057818:endpoint/xgboost-endpoint-202311262210\n",
      "Status: Creating\n",
      "Arn: arn:aws:sagemaker:us-east-1:585522057818:endpoint/xgboost-endpoint-202311262210\n",
      "Status: InService\n",
      "CPU times: user 44.2 ms, sys: 3.02 ms, total: 47.2 ms\n",
      "Wall time: 3min 31s\n"
     ]
    }
   ],
   "source": [
    "%%time\n",
    "\n",
    "# configuring, creating, waiting and then checking the status again of an endpoint\n",
    "xgboost_endpoint = \"xgboost-endpoint-\" + strftime(\"%Y%m%d%H%M\", gmtime())\n",
    "print(xgboost_endpoint)\n",
    "create_endpoint_response = sm.create_endpoint(\n",
    "    EndpointName=xgboost_endpoint, EndpointConfigName=xgboost_endpoint_config\n",
    ")\n",
    "print(create_endpoint_response[\"EndpointArn\"])\n",
    "\n",
    "resp = sm.describe_endpoint(EndpointName=xgboost_endpoint)\n",
    "status = resp[\"EndpointStatus\"]\n",
    "print(\"Status: \" + status)\n",
    "\n",
    "sm.get_waiter(\"endpoint_in_service\").wait(EndpointName=xgboost_endpoint)\n",
    "\n",
    "resp = sm.describe_endpoint(EndpointName=xgboost_endpoint)\n",
    "status = resp[\"EndpointStatus\"]\n",
    "print(\"Arn: \" + resp[\"EndpointArn\"])\n",
    "print(\"Status: \" + status)\n",
    "\n",
    "if status != \"InService\":\n",
    "    raise Exception(\"Endpoint creation did not succeed\")"
   ]
  },
  {
   "cell_type": "markdown",
   "metadata": {},
   "source": [
    "### Inferencing"
   ]
  },
  {
   "cell_type": "code",
   "execution_count": 57,
   "metadata": {},
   "outputs": [],
   "source": [
    "def np2csv(arr):\n",
    "    csv = io.BytesIO() #the function gets an array (Numpy array) and creates an in-memory binary buffer named csv\n",
    "    np.savetxt(csv, arr, delimiter=\",\", fmt=\"%g\") # write the array 'arr' to csv object, columns should be seperated by commas. The fmt=\"%g\" removes unneccesary decimals when saving and use scientific notation.\n",
    "    # In the following line:\n",
    "    # csv.getvalue() retrieves the entire contents of the buffer csv as a byte string.\n",
    "    # .decode() converts the byte string into a normal Python string by decoding it using the default UTF-8 encoding.\n",
    "    #.rstrip() removes any trailing whitespace or newlines from the end of the string.\n",
    "    return csv.getvalue().decode().rstrip()"
   ]
  },
  {
   "cell_type": "code",
   "execution_count": 58,
   "metadata": {},
   "outputs": [],
   "source": [
    "import io, json\n",
    "runtime = boto3.client(\"runtime.sagemaker\")\n",
    "\n",
    "payload = np2csv(test_X)\n",
    "\n",
    "# invoking endpoint which is used to make a prediction request to the SageMaker endpoint.\n",
    "response = runtime.invoke_endpoint(\n",
    "    EndpointName=xgboost_endpoint, ContentType=\"text/csv\", Body=payload\n",
    ")\n",
    "result = response[\"Body\"].read().decode()\n",
    "test_pred = np.array(result.split(), dtype=float)\n",
    "#The following line:\n",
    "# extracts the prediction results from the result dictionary, from the \"predictions\" key.\n",
    "# It is a list of dictionaries where each dictionary has a key \"score\" representing the model's prediction. "
   ]
  },
  {
   "cell_type": "code",
   "execution_count": 59,
   "metadata": {},
   "outputs": [
    {
     "name": "stdout",
     "output_type": "stream",
     "text": [
      "[0.98641372 0.00207751 0.03878499 ... 0.18620981 0.92541814 0.20467584]\n"
     ]
    }
   ],
   "source": [
    "print(test_pred)"
   ]
  },
  {
   "cell_type": "code",
   "execution_count": 60,
   "metadata": {},
   "outputs": [
    {
     "name": "stdout",
     "output_type": "stream",
     "text": [
      "Accuracy: 0.8046\n",
      "Precision: 0.2289\n",
      "Recall: 0.4372\n",
      "F1 Score: 0.3005\n",
      "ROC AUC: 0.7152\n"
     ]
    },
    {
     "data": {
      "image/png": "[encoded data removed]",
      "text/plain": [
       "<Figure size 800x600 with 1 Axes>"
      ]
     },
     "metadata": {},
     "output_type": "display_data"
    },
    {
     "name": "stdout",
     "output_type": "stream",
     "text": [
      "Confusion Matrix:\n",
      "[[3798  704]\n",
      " [ 269  209]]\n"
     ]
    }
   ],
   "source": [
    "from sklearn.metrics import accuracy_score, precision_score, recall_score, f1_score, roc_auc_score, roc_curve, confusion_matrix\n",
    "import matplotlib.pyplot as plt\n",
    "\n",
    "# Assuming test_y and test_pred are your true labels and predicted probabilities\n",
    "\n",
    "# Convert probabilities to binary predictions (0 or 1)\n",
    "test_pred_class = (test_pred > 0.5).astype(int)\n",
    "\n",
    "# Calculate and print accuracy\n",
    "accuracy = accuracy_score(test_y, test_pred_class)\n",
    "print(f'Accuracy: {accuracy:.4f}')\n",
    "\n",
    "# Calculate and print precision, recall, and F1 score\n",
    "precision = precision_score(test_y, test_pred_class)\n",
    "recall = recall_score(test_y, test_pred_class)\n",
    "f1 = f1_score(test_y, test_pred_class)\n",
    "\n",
    "print(f'Precision: {precision:.4f}')\n",
    "print(f'Recall: {recall:.4f}')\n",
    "print(f'F1 Score: {f1:.4f}')\n",
    "\n",
    "# Calculate and print ROC AUC\n",
    "roc_auc = roc_auc_score(test_y, test_pred)\n",
    "print(f'ROC AUC: {roc_auc:.4f}')\n",
    "\n",
    "# Plot ROC curve\n",
    "fpr, tpr, thresholds = roc_curve(test_y, test_pred)\n",
    "plt.figure(figsize=(8, 6))\n",
    "plt.plot(fpr, tpr, color='darkorange', lw=2, label='ROC curve')\n",
    "plt.plot([0, 1], [0, 1], color='navy', lw=2, linestyle='--')\n",
    "plt.xlabel('False Positive Rate')\n",
    "plt.ylabel('True Positive Rate')\n",
    "plt.title('Receiver Operating Characteristic (ROC) Curve')\n",
    "plt.legend(loc='lower right')\n",
    "plt.show()\n",
    "\n",
    "# Print confusion matrix\n",
    "conf_matrix = confusion_matrix(test_y, test_pred_class)\n",
    "print('Confusion Matrix:')\n",
    "print(conf_matrix)\n"
   ]
  },
  {
   "cell_type": "code",
   "execution_count": 61,
   "metadata": {},
   "outputs": [
    {
     "name": "stdout",
     "output_type": "stream",
     "text": [
      "Prediction Accuracy: 80.5 %\n",
      "Baseline Accuracy: 90.4 %\n"
     ]
    }
   ],
   "source": [
    "#If the predicted probability (test_pred) is greater than 0.5, it is considered a prediction for the positive class (1). \n",
    "#The + 0 part is used to convert the resulting boolean values (True for values above 0.5 and False for values below) into integers (1 and 0, respectively)\n",
    "test_pred_class = (test_pred > 0.5) + 0   # converts the predicted probabilities to binary predictions based on a threshold of 0.5.\n",
    "\n",
    "# We sort the train_y values and select the mdedian (if is 0, then we select 0 otherwise 1). Then we generate that 0s or 1s equal to the lenght of test_y. We use this as baseline for test_pred_baseline\n",
    "test_pred_baseline = np.repeat(np.median(train_y), len(test_y))   # This line creates a baseline prediction by repeating the median value of the training set's target variable. This serves as a simple baseline for comparison.\n",
    "\n",
    "#compare the binary prediction (test_pred_class) with actual outcomes (test_y)\n",
    "prediction_accuracy = np.mean((test_y == test_pred_class)) * 100    # calculates the accuracy of your model by comparing the predicted values (test_pred_class) with the true values (test_y).\n",
    "baseline_accuracy = np.mean((test_y == test_pred_baseline)) * 100   # calculates the accuracy of the baseline by comparing the baseline predictions (test_pred_baseline) with the true values (test_y).\n",
    "\n",
    "print(\"Prediction Accuracy:\", round(prediction_accuracy, 1), \"%\")\n",
    "print(\"Baseline Accuracy:\", round(baseline_accuracy, 1), \"%\")"
   ]
  },
  {
   "cell_type": "code",
   "execution_count": 62,
   "metadata": {},
   "outputs": [
    {
     "data": {
      "text/plain": [
       "{'ResponseMetadata': {'RequestId': '2a85b420-c5c6-4fbb-b9b0-23f16d3516a9',\n",
       "  'HTTPStatusCode': 200,\n",
       "  'HTTPHeaders': {'x-amzn-requestid': '2a85b420-c5c6-4fbb-b9b0-23f16d3516a9',\n",
       "   'content-type': 'application/x-amz-json-1.1',\n",
       "   'content-length': '0',\n",
       "   'date': 'Sun, 26 Nov 2023 22:14:34 GMT',\n",
       "   'connection': 'close'},\n",
       "  'RetryAttempts': 0}}"
      ]
     },
     "execution_count": 62,
     "metadata": {},
     "output_type": "execute_result"
    }
   ],
   "source": [
    "sm.delete_endpoint(EndpointName=xgboost_endpoint)"
   ]
  },
  {
   "cell_type": "code",
   "execution_count": null,
   "metadata": {},
   "outputs": [],
   "source": []
  }
 ],
 "metadata": {
  "kernelspec": {
   "display_name": "Python 3 (ipykernel)",
   "language": "python",
   "name": "python3"
  },
  "language_info": {
   "codemirror_mode": {
    "name": "ipython",
    "version": 3
   },
   "file_extension": ".py",
   "mimetype": "text/x-python",
   "name": "python",
   "nbconvert_exporter": "python",
   "pygments_lexer": "ipython3",
   "version": "3.9.7"
  }
 },
 "nbformat": 4,
 "nbformat_minor": 2
}
